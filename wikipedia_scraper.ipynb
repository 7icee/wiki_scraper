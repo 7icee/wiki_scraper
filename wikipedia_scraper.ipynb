{
 "cells": [
  {
   "cell_type": "markdown",
   "metadata": {
    "id": "rru15J6cT0aF"
   },
   "source": [
    "# Your first scraper\n",
    "In this project, we will guide you step by step through the process of:\n",
    "\n",
    "1. creating a self-contained development environment.\n",
    "1. retrieving some information from an API (a website for computers)\n",
    "2. leveraging it to scrape a website that does not provide an API\n",
    "3. saving the output for later processing\n",
    "\n",
    "Here we query an API for a list of countries and their past leaders. We then extract and sanitize their short bio from Wikipedia. Finally, we save the data to disk.\n",
    "\n",
    "This task is often the first (coding) step of a datascience project and you will often come back to it in the future.\n",
    "\n",
    "You will study topics such as *scraping*, *data structures*, *regular expressions*, *concurrency* and *file handling*. We will point out useful resources at the appropriate time. \n",
    "\n",
    "Let's dive in!"
   ]
  },
  {
   "attachments": {},
   "cell_type": "markdown",
   "metadata": {},
   "source": [
    "## Creating a clean environment\n",
    "\n",
    "Use the [`venv`](https://docs.python.org/3/library/venv.html) command to create a new environment called `wikipedia_scraper_env`.\n",
    "\n",
    "Activate it.\n",
    "\n",
    "You will find more info about virtual environments in the course content and on the web."
   ]
  },
  {
   "cell_type": "markdown",
   "metadata": {
    "id": "48qvKH56a1Wy"
   },
   "source": [
    "## API Scraping\n",
    "\n",
    "### A simple API query\n",
    "You will start with the basics: how to do a simple request to an [API endpoint](../../2.python/2.python_advanced/05.Scraping/5.apis.ipynb).\n",
    "\n",
    "You will use the [requests](https://requests.readthedocs.io/en/latest/) external library through the `import` keyword.\n",
    "\n",
    "NOTE: external libraries need to be installed first. Check their documentation.\n",
    "\n",
    "Check the [Quickstart](https://requests.readthedocs.io/en/latest/user/quickstart/) section of the Requests documentation to:\n",
    "1. use the `get()` method to connect to this endpoint: https://country-leaders.onrender.com/status\n",
    "2. check if the `status_code` is equal to 200, which means OK.\n",
    "    * if OK, `print()` the `text`` of the response.\n",
    "    * if not, `print()` the `status_code`. \n",
    "\n",
    "Here is the signification of [HTTP status codes](https://en.wikipedia.org/wiki/List_of_HTTP_status_codes).\n"
   ]
  },
  {
   "cell_type": "code",
   "execution_count": null,
   "metadata": {
    "id": "9baoMWgIcK3E"
   },
   "outputs": [],
   "source": [
    "# import the requests library (1 line)\n",
    "import requests\n",
    "\n",
    "# assign the root url (without /status) to the root_url variable for ease of reference (1 line)\n",
    "url = \"https://country-leaders.onrender.com\"\n",
    "\n",
    "# assign the /status endpoint to another variable called status_url (1 line)\n",
    "status_url = url + \"/status\"\n",
    "\n",
    "# query the /status endpoint using the get() method and store it in the req variable (1 line)\n",
    "req = requests.get(status_url)\n",
    "\n",
    "# check the status_code using a condition and print appropriate messages (4 lines)\n",
    "if req.status_code == 200:\n",
    "    print(req.text)\n",
    "else:\n",
    "    print(f\"Error: {req.status_code}\")"
   ]
  },
  {
   "cell_type": "markdown",
   "metadata": {
    "id": "TL72ovJUcZTA"
   },
   "source": [
    "### Dealing with JSON\n",
    "\n",
    "[JSON](https://quickref.me/json) is the preferred format to deal with data over the web. You cannot avoid it so you would better get acquainted.\n",
    "\n",
    "Connect to another endpoint called `/countries` but this time the API will return data in the JSON format. Check what to do in the Requests [Quickstart](https://requests.readthedocs.io/en/latest/user/quickstart/).\n"
   ]
  },
  {
   "cell_type": "code",
   "execution_count": null,
   "metadata": {
    "id": "Y0DLiYCWcg5W"
   },
   "outputs": [],
   "source": [
    "# Set the countries_url variable (1 line)\n",
    "countries_url = url + \"/countries\"\n",
    "\n",
    "# query the /countries endpoint using the get() method and store it in the req variable (1 line)\n",
    "req = requests.get(countries_url)\n",
    "\n",
    "# Get the JSON content and store it in the countries variable (1 line)\n",
    "countries = req.json()\n",
    "\n",
    "# display the request's status code and the countries variable (1 line)\n",
    "print(\"{req.status_code}\")\n",
    "print(countries)\n"
   ]
  },
  {
   "cell_type": "markdown",
   "metadata": {
    "id": "1x25JA6vaRBi"
   },
   "source": [
    "### Cookies anyone?\n",
    "\n",
    "It looks like the access to this API is restricted...\n",
    "Query the `/cookie` endpoint and extract the appropriate field to access your cookie.\n",
    "\n",
    "You will need to use this cookie in each of the following API requests."
   ]
  },
  {
   "cell_type": "code",
   "execution_count": null,
   "metadata": {
    "id": "dTDwpN9Q3nk_"
   },
   "outputs": [],
   "source": [
    "# Set the cookie_url variable (1 line)\n",
    "cookies_url = url + \"/cookie\"\n",
    "\n",
    "# Query the enpoint, set the cookies variable and display it (2 lines)\n",
    "cookies_req = requests.get(cookies_url)\n",
    "\n",
    "cookies = cookies_req.cookies.get_dict()\n",
    "cookies"
   ]
  },
  {
   "cell_type": "markdown",
   "metadata": {
    "id": "DHBNaFJo2M9e"
   },
   "source": [
    "Try to query the countries endpoint using the cookie, save the output and print it."
   ]
  },
  {
   "cell_type": "code",
   "execution_count": null,
   "metadata": {
    "id": "9Y63sTXY7ppT"
   },
   "outputs": [],
   "source": [
    "# query the /countries endpoint, assign the output to the countries variable (1 line)\n",
    "countries_req = requests.get(countries_url,  cookies=cookies)\n",
    "\n",
    "# display the countries variable (1 line)\n",
    "countries = countries_req.json()\n",
    "\n",
    "print(countries)\n"
   ]
  },
  {
   "cell_type": "markdown",
   "metadata": {
    "id": "I3HmuGTT9lU1"
   },
   "source": [
    "Chances are the cookie has expired... Thanksfully, you got a nice error message. For now, simply execute the last 2 cells quickly so you get a result."
   ]
  },
  {
   "cell_type": "markdown",
   "metadata": {
    "id": "Egv40GBV8rSH"
   },
   "source": [
    "### Getting the actual data from the API\n",
    "\n",
    "Query the `/leaders` endpoint."
   ]
  },
  {
   "cell_type": "code",
   "execution_count": null,
   "metadata": {
    "id": "ZwLFqcBA8PaD"
   },
   "outputs": [],
   "source": [
    "# Set the leaders_url variable (1 line)\n",
    "leaders_url = url + \"/leaders\"\n",
    "\n",
    "# query the /leaders endpoint, assign the output to the leaders variable (1 line)\n",
    "leaders_req = requests.get(leaders_url, cookies=cookies)\n",
    "leaders = leaders_req.json()\n",
    "\n",
    "# display the leaders variable (1 line)\n",
    "print(leaders)\n"
   ]
  },
  {
   "cell_type": "markdown",
   "metadata": {
    "id": "1QyM7vWBAlY4"
   },
   "source": [
    "It looks like this endpoint requires additional information in order to return its result. Check the API [*documentation*](https://country-leaders.onrender.com/docs) in your web browser.\n",
    "\n",
    "Change the query to accept *parameters*. You should know where to find help by now."
   ]
  },
  {
   "cell_type": "code",
   "execution_count": null,
   "metadata": {
    "id": "gIEFBhBeAkzf"
   },
   "outputs": [],
   "source": [
    "# query the /leaders endpoint using cookies and parameters (take any country in countries)\n",
    "country = 'us'\n",
    "leaders_req_params = requests.get(leaders_url, params={'country': country}, cookies=cookies)\n",
    "\n",
    "# assign the output to the leaders variable (1 line)\n",
    "leaders = leaders_req_params.json()\n",
    "\n",
    "# display the leaders variable (1 line)\n",
    "print(leaders)\n"
   ]
  },
  {
   "attachments": {},
   "cell_type": "markdown",
   "metadata": {
    "id": "uW3k5uquCirA"
   },
   "source": [
    "### A sneak peak at the data (finally)\n",
    "\n",
    "Look inside a few examples. Notice the dictionary keys available for each entry. You have your first example of *structured data*. This data was sanitized for your benefit, meaning it is readily exploitable without modification.\n",
    "\n",
    "You will also notice there is a Wikipedia link for each entry. You will need to extract additional information there. This will be a case of *semi-structured* data.\n",
    "\n",
    "The /countries endpoint returns a `list` of several country codes.\n",
    "\n",
    "You need to loop through this list and query the /leaders endpoint for each one. Save each `json` result in a dictionary called `leaders_per_country`."
   ]
  },
  {
   "cell_type": "code",
   "execution_count": null,
   "metadata": {
    "id": "H8EdK2S9rvPJ"
   },
   "outputs": [],
   "source": [
    "# 4 lines\n",
    "leaders_per_country = {}\n",
    "for countrie in countries:\n",
    "    leaders_req_params = requests.get(leaders_url, params={'country': countrie}, cookies=cookies)\n",
    "    leaders = leaders_req_params.json()\n",
    "    leaders_per_country[countrie] = leaders\n",
    "\n",
    "print(leaders_per_country)\n",
    "\n",
    "\n"
   ]
  },
  {
   "cell_type": "code",
   "execution_count": null,
   "metadata": {},
   "outputs": [],
   "source": [
    "# or 1 line\n"
   ]
  },
  {
   "cell_type": "markdown",
   "metadata": {
    "id": "WsA2j7s_RMgy"
   },
   "source": [
    "It is finally time to create a `get_leaders()` function for the above code. You will build on it later-on. This function takes no parameter. Inside it, you will need to:\n",
    "1. define the urls\n",
    "2. get the cookies\n",
    "2. get the countries\n",
    "3. loop over them and save their leaders in a dictionary\n",
    "4. return the dictionary"
   ]
  },
  {
   "cell_type": "code",
   "execution_count": null,
   "metadata": {
    "id": "p6C7BgWQMxV2"
   },
   "outputs": [],
   "source": [
    "# < 15 lines\n",
    "import requests\n",
    "\n",
    "def get_leaders():\n",
    "    url = \"https://country-leaders.onrender.com\"\n",
    "    cookies_url = url + \"/cookie\"\n",
    "    countries_url = url + \"/countries\"\n",
    "    leaders_url = url + \"/leaders\"\n",
    "    \n",
    "    cookies_req = requests.get(cookies_url)\n",
    "    cookies = cookies_req.cookies.get_dict()\n",
    "    \n",
    "    countries_req = requests.get(countries_url, cookies=cookies)\n",
    "    countries = countries_req.json()\n",
    "\n",
    "    leaders_per_country = {}\n",
    "    \n",
    "    for country in countries:\n",
    "        leaders_req = requests.get(leaders_url, params={'country': country}, cookies=cookies)\n",
    "        leaders = leaders_req.json()\n",
    "        leaders_per_country[country] = leaders\n",
    "    \n",
    "    return leaders_per_country\n"
   ]
  },
  {
   "cell_type": "markdown",
   "metadata": {
    "id": "I76-InoKuuV8"
   },
   "source": [
    "Test your function, save the result in the `leaders_per_country` dictionary and check its ouput."
   ]
  },
  {
   "cell_type": "code",
   "execution_count": null,
   "metadata": {
    "id": "eXwd8o7Gu8yG"
   },
   "outputs": [],
   "source": [
    "# 2 lines\n",
    "leaders_per_country = get_leaders()\n",
    "\n",
    "print(leaders_per_country)"
   ]
  },
  {
   "cell_type": "markdown",
   "metadata": {
    "id": "D1Fc1mHySn9g"
   },
   "source": [
    "## Extracting data from Wikipedia\n",
    "\n",
    "Query one of the leaders' Wikipedia urls and display its `text` (not JSON)."
   ]
  },
  {
   "cell_type": "code",
   "execution_count": null,
   "metadata": {},
   "outputs": [],
   "source": [
    "for leader in leaders_per_country[\"us\"]:\n",
    "    print(leader['wikipedia_url'])"
   ]
  },
  {
   "cell_type": "code",
   "execution_count": null,
   "metadata": {
    "id": "cEKKqyTHr3fD"
   },
   "outputs": [],
   "source": [
    "# 3 lines\n",
    "import requests\n",
    "from bs4 import BeautifulSoup\n",
    "\n",
    "content = requests.get('https://en.wikipedia.org/wiki/George_Washington')\n",
    "\n",
    "soup = BeautifulSoup(content.text, 'html')\n",
    "\n",
    "print(soup.get_text())\n",
    "\n"
   ]
  },
  {
   "attachments": {},
   "cell_type": "markdown",
   "metadata": {
    "id": "ZlsqjiTYr8sK"
   },
   "source": [
    "Ouch! You get the raw HTML code of the webpage. If you try to deal with it without tools, you will be there all night. Instead, use the [beautiful soup 4](https://www.crummy.com/software/BeautifulSoup/bs4/doc/) *external* library. You will find more info about it [here](../../2.python/2.python_advanced/05.Scraping/1.beautifulsoup_basic.ipynb) and [here](../../2.python/2.python_advanced/05.Scraping/2.beautifulsoup_advanced.ipynb)\n",
    "\n",
    "Using the Quickstart section, start by importing the library and loading the output of your `get_text()` function.\n",
    "\n",
    "Use the `prettify()` function and print it to take a look. You will start the actual parsing in the next step."
   ]
  },
  {
   "cell_type": "code",
   "execution_count": null,
   "metadata": {
    "id": "h79ahwJvr7p-"
   },
   "outputs": [],
   "source": [
    "# 3 lines\n",
    "import requests\n",
    "from bs4 import BeautifulSoup\n",
    "\n",
    "content = requests.get('https://en.wikipedia.org/wiki/George_Washington')\n",
    "\n",
    "soup = BeautifulSoup(content.text, 'html')\n",
    "\n",
    "pretty_content = soup.prettify()\n",
    "print(pretty_content)\n"
   ]
  },
  {
   "cell_type": "markdown",
   "metadata": {
    "id": "aQsLjaig7_dY"
   },
   "source": [
    "That looks better but you need to extract the right part of the webpage: the text of the first paragraph.\n",
    "\n",
    "It is a bit tricky because Wikipedia pages slightly differ in structure from one language to the next. We cannot simply get the text for the first HTML paragraph.\n",
    "\n",
    "You will start by getting all the HTML paragraphs from the HTML source and saving them in the `paragraphs` variable.\n",
    "\n",
    "Use the documentation or google the appropriate keywords."
   ]
  },
  {
   "cell_type": "code",
   "execution_count": null,
   "metadata": {
    "id": "Vs8HeBx19oyC"
   },
   "outputs": [],
   "source": [
    "# 2 lines\n",
    "paragraphs = soup.find_all('p')\n",
    "\n",
    "first_paragraph = paragraphs[1].get_text()\n",
    "print(first_paragraph)"
   ]
  },
  {
   "cell_type": "markdown",
   "metadata": {
    "id": "3tlaL3aM9zoo"
   },
   "source": [
    "If you try different urls, you might find that the paragraph you want may be at a different index each time.\n",
    "\n",
    "That is where you need to be clever and ask yourself what would be a reliable way to identify the right index ie. which string matches only the first paragraph whatever the language...\n",
    "\n",
    "Spend a good 30 minutes on the problem and brainstorm with your fellow learners. If you come out empty handed, ask your coach.\n",
    "\n",
    "1. Loop over the HTML paragraphs\n",
    "2. When you have identified the correct one\n",
    "  * store the [text](https://www.crummy.com/software/BeautifulSoup/bs4/doc/#output) inside the `first_paragraph` variable\n",
    "  * exit the loop"
   ]
  },
  {
   "cell_type": "code",
   "execution_count": null,
   "metadata": {
    "id": "0DduDXaQALau"
   },
   "outputs": [],
   "source": [
    "# <10 lines\n",
    "\n",
    "import re\n",
    "\n",
    "for country_code, leaders in leaders_per_country.items():\n",
    "    for leader in leaders:\n",
    "        url = leader['wikipedia_url']\n",
    "        content = requests.get(url)\n",
    "\n",
    "        soup = BeautifulSoup(content.text, 'html')\n",
    "\n",
    "        paragraphs = soup.find_all('p')\n",
    "\n",
    "        for paragraph in paragraphs[1:]:\n",
    "            paragraph_text = paragraph.get_text().strip()\n",
    "            if re.search(r'\\d', paragraph_text):\n",
    "                first_paragraph = paragraph_text\n",
    "                break\n",
    "\n",
    "        print(f\"({url}): {first_paragraph}\")\n",
    "\n",
    "\n"
   ]
  },
  {
   "cell_type": "markdown",
   "metadata": {
    "id": "KFe-1LlIHBGm"
   },
   "source": [
    "At this stage, you can create a function to maintain consistency in your code. We will give you its *skeleton*, you will copy the code you wrote and make it work inside a function.\n",
    "\n",
    "Don't forget to test your function."
   ]
  },
  {
   "cell_type": "code",
   "execution_count": null,
   "metadata": {
    "id": "wQORoweDHARO"
   },
   "outputs": [],
   "source": [
    "# 10 lines\n",
    "# def get_first_paragraph(wikipedia_url):\n",
    "#   print(wikipedia_url) # keep this for the rest of the notebook\n",
    "#   [insert your code]\n",
    "#   return first_paragraph\n",
    "\n",
    "def get_first_paragraph(wikipedia_url):\n",
    "    \n",
    "    content = requests.get(wikipedia_url)\n",
    "    soup = BeautifulSoup(content.text, 'html')\n",
    "    paragraphs = soup.find_all('p')\n",
    "\n",
    "    for paragraph in paragraphs[1:]:\n",
    "        paragraph_text = paragraph.get_text()\n",
    "        if re.search(r'\\d', paragraph_text): \n",
    "            return paragraph_text\n",
    "    \n",
    "\n"
   ]
  },
  {
   "cell_type": "code",
   "execution_count": null,
   "metadata": {},
   "outputs": [],
   "source": [
    "# Test: 3 lines\n",
    "for country_code, leaders in leaders_per_country.items():\n",
    "    for leader in leaders:\n",
    "        first_paragraph = get_first_paragraph(leader['wikipedia_url'])\n",
    "        print(first_paragraph)"
   ]
  },
  {
   "cell_type": "markdown",
   "metadata": {
    "id": "UtoM4dgsBVoD"
   },
   "source": [
    "### Regular expressions to the rescue\n",
    "\n",
    "Now that you have extracted the content of the first paragraph, the only thing that remains to finish your Wikipedia scraper is to sanitize the output.\n",
    "\n",
    "Indeed some Wikipedia references, HTML code, phonetic pronunciation etc. may linger. You might find *regular expressions* handy to get rid of them and obtain pristine text. You will find some useful documentation about regular expressions [here](../../2.python/2.python_advanced/03.Regex/regex.ipynb)\n",
    "\n",
    "Once you have one of your regex working online, try it in the cell below. \n",
    "\n",
    "Hints: \n",
    "* Check the `sub()` method documentation.\n",
    "* Make sure to test urls in different languages. Some may look good but other do not."
   ]
  },
  {
   "cell_type": "code",
   "execution_count": null,
   "metadata": {
    "id": "7DHEAb6oBUxd"
   },
   "outputs": [],
   "source": [
    "# 3 lines\n",
    "import re\n",
    "\n",
    "def clean_text(text):\n",
    "    text = re.sub(r'\\[.*?\\]', '', text)\n",
    "    text = re.sub(r'/[^;]*;', '', text)\n",
    "    text = re.sub(r'[ⓘ]', '', text)\n",
    "    text = re.sub(r'\\s{2,}', ' ', text)\n",
    "    text = re.sub(r'\\(/\\s*[^)]*\\)', '', text)\n",
    "    text = re.sub(r'\\(\\s+', '(', text)\n",
    "\n",
    "    text = text.strip()\n",
    "    \n",
    "    return text\n",
    "\n",
    "for country_code, leaders in leaders_per_country.items():\n",
    "    for leader in leaders:\n",
    "        first_paragraph = get_first_paragraph(leader['wikipedia_url'])\n",
    "        print(clean_text(first_paragraph))"
   ]
  },
  {
   "cell_type": "markdown",
   "metadata": {
    "id": "QekqWs-4E0bK"
   },
   "source": [
    "Overwrite the `get_first_paragraph()` function by applying your regex to the first paragraph before returning it."
   ]
  },
  {
   "cell_type": "code",
   "execution_count": null,
   "metadata": {
    "id": "voT-jzd7FMOc"
   },
   "outputs": [],
   "source": [
    "# 10 lines\n",
    "def get_first_paragraph(wikipedia_url):\n",
    "    \n",
    "    content = requests.get(wikipedia_url)\n",
    "    soup = BeautifulSoup(content.text, 'html')\n",
    "    paragraphs = soup.find_all('p')\n",
    "\n",
    "    for paragraph in paragraphs[1:]:\n",
    "        paragraph_text = paragraph.get_text()\n",
    "        if re.search(r'\\d', paragraph_text):\n",
    "            return clean_text(paragraph_text)\n",
    "    \n",
    "\n",
    "for country_code, leaders in leaders_per_country.items():\n",
    "    for leader in leaders:\n",
    "        first_paragraph = get_first_paragraph(leader['wikipedia_url'])\n",
    "        print(clean_text(first_paragraph))"
   ]
  },
  {
   "cell_type": "markdown",
   "metadata": {
    "id": "gyZkffTEFR0z"
   },
   "source": [
    "Come up with other regexes to capture other patterns and sanitize the outputs completely. Modify your `get_first_paragraph()` function accordingly."
   ]
  },
  {
   "cell_type": "code",
   "execution_count": null,
   "metadata": {
    "id": "NOmkLM9JFRCp"
   },
   "outputs": [],
   "source": [
    "# < 20 lines\n",
    "def get_first_paragraph(wikipedia_url):\n",
    "    \n",
    "    content = requests.get(wikipedia_url)\n",
    "    soup = BeautifulSoup(content.text, 'html')\n",
    "    paragraphs = soup.find_all('p')\n",
    "\n",
    "    for paragraph in paragraphs[1:]:\n",
    "        paragraph_text = paragraph.get_text()\n",
    "        if re.search(r'\\d', paragraph_text):\n",
    "            return clean_text(paragraph_text)\n",
    "\n",
    "for country_code, leaders in leaders_per_country.items():\n",
    "    for leader in leaders:\n",
    "        first_paragraph = get_first_paragraph(leader['wikipedia_url'])\n",
    "        print(clean_text(first_paragraph))"
   ]
  },
  {
   "cell_type": "markdown",
   "metadata": {
    "id": "VY7bM7Z1Nr0K"
   },
   "source": [
    "## Putting it all together\n",
    "\n",
    "Let's go back to your `get_leaders()` function and update it with an *inner* loop over each leader. You will query the url provided and extract the first paragraph using the `get_first_paragraph()` function you just finished. You will then update that `leader`'s dictionary and move on to the next one.\n",
    "\n",
    "Notice, the rest of the code should not change since you modify the leader's data one by one."
   ]
  },
  {
   "cell_type": "code",
   "execution_count": null,
   "metadata": {},
   "outputs": [],
   "source": [
    "# < 20 lines\n",
    "\n",
    "def get_leaders():\n",
    "    url = \"https://country-leaders.onrender.com\"\n",
    "    cookies_url = url + \"/cookie\"\n",
    "    countries_url = url + \"/countries\"\n",
    "    leaders_url = url + \"/leaders\"\n",
    "    \n",
    "    cookies_req = requests.get(cookies_url)\n",
    "    cookies = cookies_req.cookies.get_dict()\n",
    "    \n",
    "    countries_req = requests.get(countries_url, cookies=cookies)\n",
    "    countries = countries_req.json()\n",
    "\n",
    "    leaders_per_country = {}\n",
    "    \n",
    "    for country in countries:\n",
    "        leaders_req = requests.get(leaders_url, params={'country': country}, cookies=cookies)\n",
    "        leaders = leaders_req.json()\n",
    "        leaders_per_country[country] = leaders\n",
    "    \n",
    "    leaders_dict = {}\n",
    "\n",
    "    for country_code, leaders in leaders_per_country.items():\n",
    "        for leader in leaders:\n",
    "          leader_name = f\"{leader['first_name']} {leader['last_name']}\"\n",
    "          first_paragraph = get_first_paragraph(leader['wikipedia_url'])\n",
    "          leaders_dict[leader_name] = first_paragraph\n",
    "    return leaders_dict\n",
    "\n",
    "\n"
   ]
  },
  {
   "cell_type": "code",
   "execution_count": null,
   "metadata": {
    "id": "RICG4T3DPZ1b"
   },
   "outputs": [],
   "source": [
    "# Check the output of your function (2 lines)\n",
    "get_leaders()"
   ]
  },
  {
   "attachments": {},
   "cell_type": "markdown",
   "metadata": {
    "id": "8sCKxGrnJCxv"
   },
   "source": [
    "Does the function crash in the middle of the loop? Chances are the cookies have expired while looping over the leaders.\n",
    "\n",
    "Modify your function with an *exception* or check if the `status_code` is a cookie error. In either case, get new cookies and query the api again.\n",
    "\n",
    "If your code did not crash,"
   ]
  },
  {
   "cell_type": "code",
   "execution_count": null,
   "metadata": {
    "id": "rgPd2dxgJiW1"
   },
   "outputs": [],
   "source": [
    "# < 25 lines\n",
    "def get_first_paragraph(wikipedia_url):\n",
    "    \n",
    "    content = requests.get(wikipedia_url)\n",
    "    soup = BeautifulSoup(content.text, 'html')\n",
    "    paragraphs = soup.find_all('p')\n",
    "\n",
    "    for paragraph in paragraphs[1:]:\n",
    "        paragraph_text = paragraph.get_text()\n",
    "        if re.search(r'\\d', paragraph_text):\n",
    "            return clean_text(paragraph_text)\n",
    "\n",
    "def get_leaders():\n",
    "    url = \"https://country-leaders.onrender.com\"\n",
    "    cookies_url = url + \"/cookie\"\n",
    "    countries_url = url + \"/countries\"\n",
    "    leaders_url = url + \"/leaders\"\n",
    "    \n",
    "    cookies_req = requests.get(cookies_url)\n",
    "    cookies = cookies_req.cookies.get_dict()\n",
    "    \n",
    "    countries_req = requests.get(countries_url, cookies=cookies)\n",
    "    countries = countries_req.json()\n",
    "\n",
    "    leaders_per_country = {}\n",
    "    \n",
    "    for country in countries:\n",
    "        leaders_req = requests.get(leaders_url, params={'country': country}, cookies=cookies)\n",
    "        leaders = leaders_req.json()\n",
    "        leaders_per_country[country] = leaders\n",
    "    \n",
    "    leaders_dict = {}\n",
    "\n",
    "    for country_code, leaders in leaders_per_country.items():\n",
    "        for leader in leaders:\n",
    "          leader_name = f\"{leader['first_name']} {leader['last_name']}\"\n",
    "          first_paragraph = get_first_paragraph(leader['wikipedia_url'])\n",
    "          leaders_dict[leader_name] = first_paragraph\n",
    "    return leaders_dict\n",
    "\n",
    "\n",
    "get_leaders()"
   ]
  },
  {
   "cell_type": "markdown",
   "metadata": {
    "id": "3JvV-kPsKLl0"
   },
   "source": [
    "Check the output of your function again."
   ]
  },
  {
   "cell_type": "code",
   "execution_count": null,
   "metadata": {
    "id": "mPXT-cxgKQof"
   },
   "outputs": [],
   "source": [
    "# Check the output of your function (1 line)\n"
   ]
  },
  {
   "cell_type": "markdown",
   "metadata": {
    "id": "Y9lgxh_NMSO3"
   },
   "source": [
    "Well done! It took a while however... Let's speed things up. The main *bottleneck* is the loop. We call on the Wikipedia website many times.\n",
    "\n",
    "You will use the same *session* to call all the wikipedia pages. Check the *Advanced Usage* section of the Requests module's documentation.\n",
    "\n",
    "Start by modifying the `get_first_paragraph()` function to accept a session parameter and adjust the `get()` method call."
   ]
  },
  {
   "cell_type": "code",
   "execution_count": null,
   "metadata": {
    "id": "XTEVLIJ-V7z1"
   },
   "outputs": [],
   "source": [
    "# < 20 lines\n",
    "\n",
    "def get_first_paragraph(wikipedia_url, session):\n",
    "    \n",
    "    content = session.get(wikipedia_url)\n",
    "    soup = BeautifulSoup(content.text, 'html')\n",
    "    paragraphs = soup.find_all('p')\n",
    "\n",
    "    for paragraph in paragraphs[1:]:\n",
    "        paragraph_text = paragraph.get_text()\n",
    "        if re.search(r'\\d', paragraph_text):\n",
    "            return clean_text(paragraph_text)\n",
    "\n",
    "\n",
    "def get_leaders():\n",
    "    url = \"https://country-leaders.onrender.com\"\n",
    "    cookies_url = url + \"/cookie\"\n",
    "    countries_url = url + \"/countries\"\n",
    "    leaders_url = url + \"/leaders\"\n",
    "    \n",
    "    cookies_req = requests.get(cookies_url)\n",
    "    cookies = cookies_req.cookies.get_dict()\n",
    "    \n",
    "    countries_req = requests.get(countries_url, cookies=cookies)\n",
    "    countries = countries_req.json()\n",
    "\n",
    "    leaders_per_country = {}\n",
    "    \n",
    "    with requests.Session() as session:\n",
    "        for country in countries:\n",
    "            leaders_req = session.get(leaders_url, params={'country': country}, cookies=cookies)\n",
    "            leaders = leaders_req.json()\n",
    "            leaders_per_country[country] = leaders\n",
    "\n",
    "        leaders_dict = {}\n",
    "        for country_code, leaders in leaders_per_country.items():\n",
    "            for leader in leaders:\n",
    "                leader_name = f\"{leader['first_name']} {leader['last_name']}\"\n",
    "                first_paragraph = get_first_paragraph(leader['wikipedia_url'], session)\n",
    "                leaders_dict[leader_name] = first_paragraph\n",
    "\n",
    "    return leaders_dict\n",
    "\n",
    "\n",
    "get_leaders()\n"
   ]
  },
  {
   "cell_type": "markdown",
   "metadata": {
    "id": "3gcgHMkeWK5-"
   },
   "source": [
    "Modify your `get_leaders()` function to make use of a single session for all the Wikipedia calls.\n",
    "1. create a `Session` object outside of the loop over countries.\n",
    "2. pass it to the `get_first_paragraph()` function as an argument."
   ]
  },
  {
   "cell_type": "code",
   "execution_count": null,
   "metadata": {
    "id": "Kt6JtKDpOAIe"
   },
   "outputs": [],
   "source": [
    "# <25 lines\n",
    "print(leaders_dict)"
   ]
  },
  {
   "cell_type": "markdown",
   "metadata": {
    "id": "fy09nMG9VOaI"
   },
   "source": [
    "Test your new functions.\n",
    "\n"
   ]
  },
  {
   "cell_type": "code",
   "execution_count": 58,
   "metadata": {
    "id": "p5wFE6ivRf-Z"
   },
   "outputs": [
    {
     "data": {
      "text/plain": [
       "{'George Washington': 'George Washington (February 22, 1732\\xa0– December 14, 1799) was a Founding Father of the United States, military officer, and farmer who served as the first president of the United States from 1789 to 1797. Appointed by the Second Continental Congress as commander of the Continental Army in 1775, Washington led Patriot forces to victory in the American Revolutionary War and then served as president of the Constitutional Convention in 1787, which drafted the current Constitution of the United States. Washington has thus become commonly known as the \"Father of his Country\".',\n",
       " 'Barack Obama': 'Barack Hussein Obama II (born August 4, 1961) is an American politician who served as the 44th president of the United States from 2009 to 2017. As a member of the Democratic Party, he was the first African-American president in U.S. history. Obama previously served as a U.S. senator representing Illinois from 2005 to 2008 and as an Illinois state senator from 1997 to 2004.',\n",
       " 'Abraham Lincoln': 'Abraham Lincoln (February 12, 1809\\xa0– April 15, 1865) was the 16th president of the United States, serving from 1861 until his assassination in 1865. He led the United States through the American Civil War, defending the nation as a constitutional union, defeating the Confederacy, playing a major role in the abolition of slavery, expanding the power of the federal government, and modernizing the U.S. economy.',\n",
       " 'George Bush': 'George Herbert Walker Bush (June 12, 1924 – November 30, 2018) was an American politician, diplomat, and businessman who served as the 41st president of the United States from 1989 to 1993. A member of the Republican Party, he also served as the 43rd vice president from 1981 to 1989 under Ronald Reagan and previously in various other federal positions.',\n",
       " 'Bill Clinton': 'William Jefferson Clinton (né Blythe; born August 19, 1946) is an American lawyer and politician who served as the 42nd president of the United States from 1993 to 2001. A member of the Democratic Party, he previously served as governor of Arkansas from 1979 to 1981 and again from 1983 to 1992. Clinton, whose policies reflected a centrist \"Third Way\" political philosophy, became known as a New Democrat.',\n",
       " 'Joe Biden': 'Joseph Robinette Biden Jr. (born November 20, 1942) is an American politician who has been the 46th and current president of the United States since 2021. A member of the Democratic Party, he served as the 47th vice president from 2009 to 2017 under President Barack Obama and represented Delaware in the U.S. Senate from 1973 to 2009.',\n",
       " 'Franklin Roosevelt': \"Franklin Delano Roosevelt (January 30, 1882\\xa0– April 12, 1945), commonly known by his initials FDR, was the 32nd president of the United States, serving from 1933 until his death in 1945. The longest-serving U.S. president, he is the only president to have served more than two terms. His initial two terms were centered on combating the Great Depression, while his third and fourth saw him shift his focus to America's involvement in World War II.\",\n",
       " 'Andrew Johnson': 'Andrew Johnson (December 29, 1808\\xa0– July 31, 1875) was the 17th president of the United States, serving from 1865 to 1869. He assumed the presidency following the assassination of Abraham Lincoln, as he was vice president at that time. Johnson was a Democrat who ran with Abraham Lincoln on the National Union Party ticket, coming to office as the Civil War concluded. He favored quick restoration of the seceded states to the Union without protection for the newly freed people who were formerly enslaved as well as pardoning ex-Confederates. This led to conflict with the Republican-dominated Congress, culminating in his impeachment by the House of Representatives in 1868. He was acquitted in the Senate by one vote.',\n",
       " 'Gerald Ford': 'Gerald Rudolph Ford Jr. (born Leslie Lynch King Jr.; July 14, 1913\\xa0– December 26, 2006) was the 38th president of the United States, serving from 1974 to 1977. A member of the Republican Party, Ford assumed the presidency after President Richard Nixon resigned, under whom he had served as the 40th vice president from 1973 to 1974. Prior to that, he served as a member of the United States House of Representatives from 1949 to 1973.',\n",
       " 'Richard Nixon': \"Richard Milhous Nixon (January 9, 1913\\xa0– April 22, 1994) was the 37th president of the United States, serving from 1969 until his resignation in 1974. A member of the Republican Party, he previously served as a representative and senator from California and as the 36th vice president from 1953 to 1961 under President Dwight D. Eisenhower. His presidency saw the reduction of U.S. involvement in the Vietnam War, détente with the Soviet Union and China, the Apollo 11 Moon landing, and the establishment of the Environmental Protection Agency and Occupational Safety and Health Administration. Nixon's second term ended early when he became the only U.S. president to resign from office, as a result of the Watergate scandal.\",\n",
       " 'Lyndon Johnson': 'Lyndon Baines Johnson (August 27, 1908\\xa0–\\xa0January 22, 1973), often referred to as LBJ, was the 36th president of the United States, serving from 1963 to 1969. He became president after the assassination of John F. Kennedy, under whom he had served as the 37th vice president from 1961 to 1963. A Democrat from Texas, Johnson previously served as a U.S. representative and U.S. senator.',\n",
       " 'John Kennedy': 'John Fitzgerald Kennedy (May 29, 1917 – November 22, 1963), often referred to as JFK, was the 35th president of the United States, serving from 1961 until his assassination in 1963. He was the youngest person elected president. Kennedy served at the height of the Cold War, and the majority of his foreign policy concerned relations with the Soviet Union and Cuba. A Democrat, Kennedy represented Massachusetts in both houses of the United States Congress prior to his presidency.',\n",
       " 'Dwight Eisenhower': 'Dwight David Eisenhower (born David Dwight Eisenhower; October 14, 1890 – March 28, 1969) was the 34th president of the United States, serving from 1953 to 1961. During World War II, he was Supreme Commander of the Allied Expeditionary Force in Europe and achieved the five-star rank as General of the Army. Eisenhower planned and supervised two of the most consequential military campaigns of World War II: Operation Torch in the North Africa campaign in 1942–1943 and the invasion of Normandy in 1944.',\n",
       " 'Ronald Reagan': 'Ronald Wilson Reagan (February 6, 1911 – June 5, 2004) was an American politician and actor who served as the 40th president of the United States from 1981 to 1989. A member of the Republican Party, he became an important figure in the American conservative movement, and his presidency is known as the Reagan era.',\n",
       " 'Harry Truman': \"Harry S. Truman (May 8, 1884\\xa0– December 26, 1972) was an American lawyer and politician who was the 33rd president of the United States, serving from 1945 to 1953. A member of the Democratic Party, he served as a United States senator from Missouri from 1935 to 1945 and briefly in 1945 as the 34th vice president of the United States under Franklin D. Roosevelt. Assuming the presidency after Roosevelt's death, Truman implemented the Marshall Plan in the wake of World War II to rebuild the economy of Western Europe and established both the Truman Doctrine and NATO to contain the expansion of Soviet communism. He proposed numerous liberal domestic reforms, but few were enacted by the conservative coalition that dominated Congress.\",\n",
       " 'John Adams': 'John Quincy Adams (July 11, 1767 – February 23, 1848) was the sixth president of the United States, serving from 1825 to 1829. He previously served as the eighth United States secretary of state from 1817 to 1825. During his long diplomatic and political career, Adams served as an ambassador and also as a member of the United States Congress representing Massachusetts in both chambers. He was the eldest son of John Adams, who served as the second president of the United States from 1797 to 1801, and First Lady Abigail Adams. Initially a Federalist like his father, he won election to the presidency as a member of the Democratic-Republican Party, and later, in the mid-1830s, became affiliated with the Whig Party.',\n",
       " 'Thomas Jefferson': \"Thomas Jefferson (April 13, 1743 – July 4, 1826) was an American statesman, planter, diplomat, lawyer, architect, philosopher, and Founding Father who served as the third president of the United States from 1801 to 1809. He was the primary author of the Declaration of Independence. Following the American Revolutionary War and before becoming president in 1801, Jefferson was the nation's first U.S. secretary of state under George Washington and then the nation's second vice president under John Adams. Jefferson was a leading proponent of democracy, republicanism, and natural rights, and he produced formative documents and decisions at the state, national, and international levels.\",\n",
       " 'James Madison': 'James Madison (March 16, 1751\\xa0– June 28, 1836) was an American statesman, diplomat, and Founding Father who served as the fourth president of the United States from 1809 to 1817. Madison was popularly acclaimed the \"Father of the Constitution\" for his pivotal role in drafting and promoting the Constitution of the United States and the Bill of Rights.',\n",
       " 'James Monroe': 'James Monroe (April 28, 1758\\xa0– July 4, 1831), a Founding Father of the United States, served as the fifth president of the United States from 1817 to 1825. He was the last Founding Father to serve as president as well as the last president of the Virginia dynasty. He was a member of the Democratic-Republican Party, and his presidency coincided with the Era of Good Feelings, concluding the First Party System era of American politics. He issued the Monroe Doctrine, a policy of limiting European colonialism in the Americas. Monroe previously served as governor of Virginia, a member of the United States Senate, U.S. ambassador to France and Britain, the seventh secretary of state, and the eighth secretary of war.',\n",
       " 'Andrew Jackson': 'Andrew Jackson (March 15, 1767 – June 8, 1845) was the seventh president of the United States, serving from 1829 to 1837. Before his presidency, he gained fame as a general in the U.S. Army and served in both houses of the U.S. Congress. Often praised as an advocate for ordinary Americans and for his work in preserving the union of states, Jackson has also been criticized for his racial policies, particularly his treatment of Native Americans.',\n",
       " 'Martin Van Buren': \"Martin Van Buren (Dutch: Maarten van Buren ; December 5, 1782 – July 24, 1862) was the eighth president of the United States, serving from 1837 to 1841. A primary founder of the Democratic Party, he served as New York's attorney general and U.S. senator, then briefly as the ninth governor of New York before joining Andrew Jackson's administration as the tenth United States secretary of state, minister to Great Britain, and ultimately the eighth vice president from 1833 to 1837, after being elected on Jackson's ticket in 1832. Van Buren won the presidency in 1836 against divided Whig opponents. Van Buren lost re-election in 1840, and failed to win the Democratic nomination in 1844. Later in his life, Van Buren emerged as an elder statesman and an anti-slavery leader who led the Free Soil Party ticket in the 1848 presidential election.\",\n",
       " 'William Harrison': 'William Henry Harrison (February 9, 1773\\xa0– April 4, 1841) served as the ninth president of the United States from March 4 to April 4, 1841, the shortest presidency in U.S. history. He was also the first U.S. president to die in office, causing a brief constitutional crisis since presidential succession was not then fully defined in the U.S. Constitution. Harrison was the last president born as a British subject in the Thirteen Colonies and was the grandfather of Benjamin Harrison, the 23rd U.S. president.',\n",
       " 'John Tyler': \"John Tyler (March 29, 1790 – January 18, 1862) was the tenth president of the United States, serving from 1841 to 1845, after briefly holding office as the tenth vice president in 1841. He was elected vice president on the 1840 Whig ticket with President William Henry Harrison, succeeding to the presidency following Harrison's death 31 days after assuming office. Tyler was a stalwart supporter and advocate of states' rights, including regarding slavery, and he adopted nationalistic policies as president only when they did not infringe on the states' powers. His unexpected rise to the presidency posed a threat to the presidential ambitions of Henry Clay and other Whig politicians and left Tyler estranged from both of the nation's major political parties at the time.\",\n",
       " 'James Polk': 'James Knox Polk (November 2, 1795 – June 15, 1849) was the 11th president of the United States, serving from 1845 to 1849. A protégé of Andrew Jackson and a member of the Democratic Party, he was an advocate of Jacksonian democracy and extending the territory of the United States. Polk led the U.S. into the Mexican–American War, and after winning the war he annexed the Republic of Texas, the Oregon Territory, and the Mexican Cession.',\n",
       " 'Zachary Taylor': 'Zachary Taylor (November 24, 1784 – July 9, 1850) was the 12th president of the United States, serving from 1849 until his death in 1850. Taylor was a career officer in the United States Army, rising to the rank of major general and becoming a national hero for his victories in the Mexican–American War. As a result, he won election to the White House despite his vague political beliefs. His top priority as president was to preserve the Union. He died 16 months into his term from a stomach disease. Taylor had the third-shortest presidential term in U.S. history.',\n",
       " 'Millard Fillmore': 'Millard Fillmore (January 7, 1800 – March 8, 1874) was the 13th president of the United States, serving from 1850 to 1853, and was the last president to have been a member of the Whig Party while in office. A former member of the U.S. House of Representatives, Fillmore was elected the 12th vice president in 1848, and succeeded to the presidency when Zachary Taylor died in July 1850. Fillmore was instrumental in passing the Compromise of 1850, which led to a brief truce in the battle over the expansion of slavery.',\n",
       " 'Franklin Pierce': \"Franklin Pierce (November 23, 1804\\xa0– October 8, 1869) was the 14th president of the United States, serving from 1853 to 1857. A northern Democrat who believed that the abolitionist movement was a fundamental threat to the nation's unity, he alienated anti-slavery groups by signing the Kansas–Nebraska Act and enforcing the Fugitive Slave Act. Conflict between North and South continued after Pierce's presidency, and, after Abraham Lincoln was elected president in 1860, the Southern states seceded, resulting in the American Civil War.\",\n",
       " 'James Buchanan': \"James Buchanan Jr. (April 23, 1791\\xa0– June 1, 1868) was the 15th president of the United States, serving from 1857 to 1861. Buchanan also served as the secretary of state from 1845 to 1849 and represented Pennsylvania in both houses of the U.S. Congress. He was an advocate for states' rights, particularly regarding slavery, and minimized the role of the federal government preceding the Civil War.\",\n",
       " 'Donald Trump': 'Donald John Trump (born June 14, 1946) is an American politician, media personality, businessman and president-elect of the United States. He previously served as the 45th president of the United States from 2017 to 2021.',\n",
       " 'Jimmy Carter': 'James Earl Carter Jr. (born October 1, 1924) is an American politician and humanitarian who served from 1977 to 1981 as the 39th president of the United States. A member of the Democratic Party, he served from 1963 to 1967 in the Georgia State Senate and from 1971 to 1975 as the 76th governor of Georgia. Carter is the longest-lived president in U.S. history and the first to live to 100 years of age.',\n",
       " 'Theodore Roosevelt': \"Theodore Roosevelt Jr. (October 27, 1858 – January 6, 1919), often referred to as Teddy or T.\\xa0R., was the 26th president of the United States, serving from 1901 to 1909. He previously was involved in New York politics, including serving as the state's 33rd governor for two years. He was the vice president under President William McKinley for six months in 1901, assuming the presidency after McKinley's assassination. As president, Roosevelt emerged as a leader of the Republican Party and became a driving force for anti-trust and Progressive policies.\",\n",
       " 'Woodrow Wilson': \"Thomas Woodrow Wilson (December 28, 1856\\xa0– February 3, 1924) was the 28th president of the United States, serving from 1913 to 1921. He was the only Democrat to serve as president during the Progressive Era when Republicans dominated the presidency and legislative branches. As president, Wilson changed the nation's economic policies and led the United States into World War I. He was the leading architect of the League of Nations, and his stance on foreign policy came to be known as Wilsonianism.\",\n",
       " 'James Garfield': 'James Abram Garfield (November 19, 1831 – September 19, 1881) was the 20th president of the United States, serving from March 1881 until his assassination in September that year. A preacher, lawyer, and Civil War general, Garfield served nine terms in the United States House of Representatives and is the only sitting member of the House to be elected president. Before his candidacy for the presidency, he had been elected to the U.S. Senate by the Ohio General Assembly—a position he declined when he became president-elect.',\n",
       " 'Ulysses Grant': 'Ulysses S. Grant (born Hiram Ulysses Grant; April 27, 1822\\xa0– July 23, 1885) was the 18th president of the United States, serving from 1869 to 1877. As commanding general, Grant led the Union Army to victory in the American Civil War in 1865.',\n",
       " 'William McKinley': 'William McKinley (January 29, 1843\\xa0– September 14, 1901) was the 25th president of the United States, serving from 1897 until his assassination in 1901. A member of the Republican Party, he led a realignment that made Republicans largely dominant in the industrial states and nationwide for decades. He presided over victory in the Spanish–American War of 1898; gained control of Hawaii, Puerto Rico, Guam, and the Philippines; restored prosperity after a deep depression; rejected the inflationary monetary policy of free silver, keeping the nation on the gold standard; and raised protective tariffs.',\n",
       " 'Stephen Cleveland': 'Stephen Grover Cleveland (March 18, 1837\\xa0– June 24, 1908) was the 22nd and 24th president of the United States, serving from 1885 to 1889 and from 1893 to 1897. He was the first Democrat to win the presidency after the Civil War and was one of two Democratic presidents, followed by Woodrow Wilson, in an era when Republicans dominated the presidency between 1869 and 1933. Cleveland won the popular vote in three presidential elections: 1884, 1888 and 1892. In 1888, Benjamin Harrison won the electoral college vote, and thus the presidency. Cleveland won the electoral college in 1892, making him the first U.S. president to serve non-consecutive presidential terms. This was a feat not repeated by any candidate until the 2024 United States presidential election, in which former President Donald Trump became the 45th and 47th President of the United States.',\n",
       " 'Herbert Hoover': 'Herbert Clark Hoover (August 10, 1874 – October 20, 1964) was the 31st president of the United States, serving from 1929 to 1933. A wealthy mining engineer before his presidency, Hoover led the wartime Commission for Relief in Belgium and was the director of the U.S. Food Administration, followed by post-war relief of Europe. A member of the Republican Party, he served as the U.S. Secretary of Commerce from 1921 to 1928 before being elected president in 1928. His presidency was dominated by the Great Depression, and his policies and methods to combat it were seen as lackluster. Amid his unpopularity, he decisively lost reelection to Franklin D. Roosevelt in 1932.',\n",
       " 'Warren Harding': 'Warren Gamaliel Harding (November 2, 1865 – August 2, 1923) was the 29th president of the United States, serving from 1921 until his death in 1923. A member of the Republican Party, he was one of the most popular sitting U.S. presidents while in office. After his death, a number of scandals were exposed, including Teapot Dome, as well as an extramarital affair with Nan Britton, which tarnished his reputation.',\n",
       " 'Chester Arthur': 'Chester Alan Arthur (October 5, 1829 – November 18, 1886) was the 21st president of the United States, serving from 1881 to 1885. He was a Republican lawyer from New York who previously served as the 20th vice president under President James A. Garfield. Assuming the presidency after Garfield\\'s assassination, Arthur\\'s presidency saw the largest expansion of the U.S. Navy, the end of the so-called \"spoils system\", and the implementation of harsher restrictions for migrants entering from abroad.',\n",
       " 'William Taft': 'William Howard Taft (September 15, 1857\\xa0– March 8, 1930) was the 27th president of the United States and the tenth chief justice of the United States, the only person to have held both offices. Taft was elected president in 1908 as a Republican but was defeated for reelection in 1912 by Democratic nominee Woodrow Wilson. In 1921, President Warren G. Harding appointed Taft to be chief justice, a position he held until 1930.',\n",
       " 'Benjamin Harrison': 'Benjamin Harrison (August 20, 1833\\xa0– March 13, 1901) was the 23rd president of the United States, serving from 1889 to 1893. He was a member of the Harrison family of Virginia—a grandson of the ninth president, William Henry Harrison, and a great-grandson of Benjamin Harrison\\xa0V, a Founding Father. A Union Army veteran and a Republican, he defeated incumbent Grover Cleveland to win the presidency.',\n",
       " 'Rutherford Hayes': 'Rutherford Birchard Hayes (October 4, 1822 – January 17, 1893) was the 19th president of the United States, serving from 1877 to 1881. A staunch abolitionist from Ohio, he was also a brevet major general for the Union army during the American Civil War.',\n",
       " 'John Coolidge': 'Calvin Coolidge (born John Calvin Coolidge Jr. July 4, 1872\\xa0– January 5, 1933) was the 30th president of the United States, serving from 1923 to 1929. A Republican lawyer from Massachusetts, he previously served as the 29th vice president from 1921 to 1923 and as the 48th governor of Massachusetts from 1919 to 1921. Elected vice president in 1920, he succeeded to the presidency upon the sudden death of President Warren G. Harding in August 1923. Elected in his own right in 1924, Coolidge gained a reputation as a small-government conservative with a taciturn personality and dry sense of humor that earned him the nickname \"Silent Cal\". His widespread popularity enabled him to run for a second full term, but Coolidge chose not to run again in 1928, remarking that ten years as president would be \"longer than any other man has had it—too long!\"',\n",
       " 'Guy Verhofstadt': 'Na zijn middelbareschooltijd, die hij doorbracht aan het Koninklijk Atheneum Voskenslaan, ging hij rechten studeren aan de Rijksuniversiteit Gent. In deze periode in Gent begon hij zijn politieke carrière, allereerst in het Liberaal Vlaams Studentenverbond, waarvan hij van 1972 tot 1974 de voorzitter was. Later kwam hij in contact met Willy De Clercq, een kopstuk van de PVV in Gent, en hij kon als diens pupil opklimmen in de partij.',\n",
       " 'Yves Leterme': \"Leterme volgde tussen 1973 en 1979 Latijn-Griekse humaniora aan het Sint-Vincentiuscollege in Ieper. Vervolgens studeerde hij eerst aan de KULAK, waar hij in 1981 het diploma behaalde van kandidaat in de rechten. In 1983 studeerde hij verder aan de toenmalige Rijksuniversiteit Gent (nu Universiteit Gent), waar hij twee diploma's behaalde, in 1983 dat van kandidaat in de politieke wetenschappen en in 1984 dat van licentiaat in de rechten. In hetzelfde jaar behaalde hij in Nice het diploma van het Internationaal Studiecentrum voor het Federalisme. Ten slotte behaalde hij aan de RUG in 1985 het diploma van licentiaat in de bestuurswetenschappen (Master Bestuurskunde en Publiek management).\",\n",
       " 'Herman None': 'Herman Achille Van Rompuy is een zoon van economieprofessor Vic Van Rompuy. Hij is afkomstig uit een politieke familie, want ook zijn vrouw Geertrui Windels, zijn broer Eric Van Rompuy, zijn zus Tine Van Rompuy en zijn zoon Peter Van Rompuy werden politiek actief. Van Rompuy studeerde Grieks-Latijnse humaniora aan het Sint-Jan Berchmanscollege in Brussel tot 1965 en werd baccalaureus in de wijsbegeerte in 1968. Ten slotte behaalde hij in 1971 een licentiaatsdiploma in de economische wetenschappen aan de Katholieke Universiteit Leuven.',\n",
       " 'Léon Delacroix': 'Delacroix behaalde in 1889 het diploma van doctor in de rechten aan de Université libre de Bruxelles en vestigde zich als advocaat te Brussel.\\nMet de politiek hield hij zich op dat moment niet bezig. Daar kwam pas in 1908 verandering in, toen hij voor de katholieken verkozen werd tot gemeenteraadslid van Elsene, wat hij bleef tot in 1911.',\n",
       " 'Henry Carton': 'Graaf Carton de Wiart werd geboren in Brussel en promoveerde in 1890 als doctor in de rechten aan de ULB. Hij vestigde zich als advocaat in Brussel.',\n",
       " 'Georges Theunis': 'Door zijn huwelijk met Louise Brasseur in 1898 was hij verwant met de rijke Gentse Brasseur-familie die actief was in de textielindustrie. Hij was een schoonbroer van Robert Brasseur.',\n",
       " 'Aloïs Van de Vyvere': 'Hij was een zoon van Jean-Baptiste van de Vyvere en van Marie-Valérie Sierens en trouwde in 1894 met Marie-Louise de Neeff (1870-1926). Hij hertrouwde in 1931 met Nydia Merten (1910-1995). Uit het eerste huwelijk had hij vijf kinderen en hij had nog een dochter uit het tweede. In 1931 werd hij in de Belgische erfelijke adel opgenomen met de bij eerstgeboorte overdraagbare titel van burggraaf.',\n",
       " 'Prosper Poullet': 'Prosper Poullet was een telg uit de aristocratische familie Poullet, die officieren en magistraten telde. Hij liep van 1879 tot 1884 middelbare school bij de jozefieten in Leuven en promoveerde in 1890 aan de Katholieke Universiteit Leuven tot doctor in de wijsbegeerte en letteren en doctor in de rechten.',\n",
       " 'Henri Jaspar': 'Henri Jaspar promoveerde tot doctor in de rechten aan de ULB en vestigde zich als advocaat in Brussel. In 1919 werd hij verkozen tot volksvertegenwoordiger voor de Katholieke Partij voor het arrondissement Luik en vervulde dit mandaat tot in 1936.',\n",
       " 'Jules None': 'Renkin promoveerde in 1884 tot doctor in de rechten aan de Katholieke Universiteit Leuven en vestigde zich als advocaat.',\n",
       " 'Paul Van Zeeland': 'Van Zeeland begon zijn studies aan de Katholieke Universiteit Leuven in 1913, die het jaar daarop onderbroken werden door de Eerste Wereldoorlog. Tijdens de Duitse inval diende hij een paar weken bij het 3de Linieregiment, maar werd krijgsgevangen genomen op 19 augustus 1914 in Butsel bij Boutersem. Na de oorlog hervatte hij zijn studies en promoveerde in 1920 tot doctor in de rechten en in 1922 tot doctor in de politieke en sociale wetenschappen aan de KU Leuven. In 1921 werd hij Master of Arts in de economie aan de Princeton-universiteit. Ook was hij aan de KU Leuven baccalaureus in de thomistische wijsbegeerte.',\n",
       " 'Achille Van Acker': 'In 1914 stichtte Van Acker samen met enkele vrienden een Bond voor de Verdediging van de Vlaamsche Rechten. Het uitbreken van de Eerste Wereldoorlog dat jaar betekende voor hem het begin van een lange zwerftocht door Frankrijk, waar hij aan de slag ging als onder meer bootsman, stuwadoor, grondwerker en metselaar. In die periode was hij even lid van de Frontbeweging, maar wegens zijn bijziendheid werd Van Acker niet toegelaten tot het front. Wel werkte hij van 1916 tot 1918 in de munitiefabriek in Le Havre.',\n",
       " 'Camille Huysmans': 'Camille Hansen werd geboren als de zoon van de ongehuwde Joanna Catharina Hansen. Zijn moeder wilde niet met de vader, Odomar Francken, een Luikse farmacie-student, trouwen. Hij verkreeg de achternaam Huysmans in 1881 na het huwelijk van zijn moeder met Augustinus Huysmans. Hij groeide op in het Limburgse Bilzen, waar hij als leerling van de gemeenteschool op jonge leeftijd met de Schoolstrijd werd geconfronteerd. Vanaf 1881 studeerde hij aan het Atheneum van Tongeren.',\n",
       " 'Gaston Eyskens': 'Eyskens was de zoon van de handelsreiziger Antonius Franciscus Eyskens (1875-1948) en Maria Voeten (1872-1960). Hij trouwde in 1931 met Gilberte Depetter (1902-1981), dochter van de schepen van Leuven Emile De Petter (1868-1923). Ze kregen twee zonen: Mark Eyskens (1933), hoogleraar en eveneens gewezen eerste minister en Erik Eyskens (1935-2008), chirurg en hoogleraar.',\n",
       " 'Leo Tindemans': \"Net zoals naar schatting 300.000 van zijn leeftijdsgenoten moest hij zijn studies onderbreken om te gehoorzamen aan de oproep van het Belgische leger bij de Duitse inval in mei 1940. Hij vertrok als een van de zogenaamde CRAB's naar Frankrijk om daar een reserveleger te vormen. Soldaat werden ze echter nooit. Na de capitulatie van 28 mei, fietste hij samen met de scouts van Zwijndrecht uit Noord-Frankrijk huiswaarts. Hij volbracht toch nog zijn legerdienst in de brigade Piron die toen in Duitsland gelegerd was, na de Tweede Wereldoorlog.\",\n",
       " 'Elio Di Rupo': 'Hij kwam voor het eerst in contact met de socialistische beweging tijdens zijn studies in Bergen, waar hij aan de Université de Mons-Hainaut eerst een licentiaatsdiploma en vervolgens in 1978 een doctoraat in de scheikunde behaalde, met als titel De studie van het reactieve sinteren van zirkonium- en aluminiumoxide-alfa. Hij trok naar de Universiteit van Leeds (Verenigd Koninkrijk), waar hij van 1977 tot 1978 werkte als assistent. In 1978 werd hij assistent op de Dienst Algemene Chemie en Materiaalwetenschappen van de Université de Mons-Hainaut, in 1979 wetenschappelijk onderzoeker aan het Institut interuniversitaire des matériaux en in 1982 onderzoeksdirecteur aan de Université de Mons-Hainaut. Vanaf 1990 was hij aan deze universiteit ook docent aan de Faculteit Psychopedagogische Wetenschappen.',\n",
       " 'Jean-Luc Dehaene': 'Dehaene werd in 1940 geboren in de noodkliniek van het Franse Montpellier, waar zijn familie in het begin van de Tweede Wereldoorlog een toevlucht had gevonden. Hij was de zoon van de Brugse psychiater Albert Dehaene en Andrée Verstraete. Datzelfde jaar keerde hij echter terug naar Brugge, waar hij het grootste deel van zijn jeugd doorbracht.',\n",
       " 'Frans Schollaert': 'Hij promoveerde tot doctor in de rechten en vestigde zich als advocaat aan de balie in Leuven. Van 1894 tot 1895 was hij stafhouder. In 1880 werd hij verkozen tot provincieraadslid voor het kanton Leuven. Van 1888 tot aan zijn overlijden was hij lid van de Kamer van volksvertegenwoordigers voor het arrondissement Leuven en van 1901 tot 1908 en van 1911 tot aan zijn overlijden, voorzitter van de Kamer. In 1890 was Schollaert medestichter van de Belgische Boerenbond. Bovendien was hij jarenlang ondervoorzitter en erevoorzitter van het Davidsfonds. Hij overleed ten gevolge van een nierziekte.',\n",
       " 'Pieter Decker': 'Hij werd opgevoed in een jezuïetenschool, promoveerde in 1834 tot doctor in de rechten aan de Rijksuniversiteit Gent en studeerde nog enkele maanden in Parijs. Hij vestigde zich als advocaat in Gent. In 1837 was hij samen met Adolphe Dechamps medeoprichter van de Revue de Bruxelles, waar hij tot in 1841 werkzaam was als redacteur.',\n",
       " 'Paul-Henri Spaak': 'Paul-Henri Spaak groeide op in een politiek actieve familie. Zijn grootvader Paul Janson was een voorstaand lid van de Liberale Partij, net als zijn oom langs moederkant Paul-Emile Janson, die van 1937 tot 1938 korte tijd premier van België was. Zijn moeder Marie Janson daartegen was politiek actief voor de socialistische BWP en werd in 1921 de eerste vrouwelijke senator in de Belgische geschiedenis. Zijn vader Paul Spaak was dan weer actief als advocaat en schrijver. Ook zijn dochter Antoinette Spaak werd politiek actief en werd na zijn dood politica en parlementslid voor het FDF. Zijn zoon Fernand Spaak was diplomaat en ambtenaar.',\n",
       " 'Auguste Beernaert': 'Hij was in zijn jeugd ook een verdienstelijk dilettant tekenaar, voornamelijk stadsgezichten. Hij speelde toen een tijdje met het idee, om zoals zijn zuster Euphrosine Beernaert, een artistieke opleiding te volgen vooraleer zijn rechtenstudie aan te vatten.',\n",
       " 'Théodore Lefèvre': 'Theo Lefèvre was de zoon van de Gentse advocaat Etienne Lefèvre en van Maria Rogman. Hij had een jongere broer, Etienne Lefèvre. De vader behoorde tot de christendemocratische vleugel van de katholieke partij. Hij bracht de volledige Eerste Wereldoorlog door aan het front en kwam erg gehavend terug, getekend door de gevolgen van een gasaanval. Een verblijf in Davos hielp weinig en in 1922 overleed hij.',\n",
       " 'Paul None': \"Paul de Smet was de zoon van de Gentse katoenindustrieel Eugène de Smet (1813-1904) en van Eugénie Leirens (1818-1909). Eugène de Smet kreeg vergunning om 'de Naeyer' aan de familienaam toe te voegen en werd in 1886, samen met zijn twee broers, Emile en Fernand, in de erfelijke adel opgenomen. Paul de Smet de Naeyer kreeg in 1900 de titel van graaf, overdraagbaar bij eerstgeboorte.\",\n",
       " 'Étienne Gerlache': 'De Gerlache werd geboren in Biourge (deel van Bertrix) en was het twaalfde kind van jonkheer François de Gerlache (1743-1791) en van Marguerite de Groulart (1744-1817). Zijn vader was eigenaar van de hoogovens van Waillimont en stierf toen Constantin nog zeer jong was. In 1844 verkreeg hij, samen met andere familieleden, adelserkenning en voor zichzelf de erfelijke baronstitel. Hij was broer van Jean Baptiste Anne de Gerlache de Biourge. Hij trouwde in 1813 met Anne Buschmann (Sankt Vith, 1787 - Elsene, 1839). Ze kregen drie zoons en twee dochters, maar geen verdere nakomelingen. Zijn vrouw en drie van zijn kinderen stierven voor hem.',\n",
       " 'Wilfried Martens': \"In 1949 belandde Martens door toedoen van de pastoor van zijn parochie (die zorgde voor een studiebeurs van het Fonds voor de meestbegaafden) in het internaat van het Sint-Vincentiuscollege van Eeklo en blonk er uit in de Grieks-Latijnse Humaniora. Hier kwam hij voor het eerst in contact met het flamingantisme dat de rode draad doorheen zijn latere politieke carrière vormde. Hij werd een enthousiast promotor van het ABN dat hij had aangeleerd door veelvuldig naar de radio te luisteren. In de Retorica hield hij voor het examen in welsprekendheid een, naar eigen zeggen, 'formidabel pleidooi' voor het federalisme in België. En hoewel zijn leraar het fundamenteel oneens was met de inhoud loofde hij Martens toch om zijn redenaarstalent.\",\n",
       " 'Mark Eyskens': 'Mark Eyskens is de zoon van politicus en premier Gaston Eyskens (1905-1988) en Gilberte Depetter (1902-1988). Hij had een broer, Erik Eyskens (1935-2008), die chirurg was in Antwerpen. Een andere broer en zus overleden op jonge leeftijd.',\n",
       " 'Pierre Harmel': 'Van 1933 tot 1934 werkte hij als stagiair-advocaat aan de balie van Luik, waarna hij van 1934 tot 1940 assistent was aan de rechtenfaculteit van de Universiteit Luik. Vervolgens nam hij als reserveofficier deel aan de Achttiendaagse Veldtocht. Nadat de Belgische troepen zich aan Nazi-Duitsland hadden overgegeven, werd hij krijgsgevangen gemaakt. Na zijn vrijlating werd hij in 1943 docent aan de rechtenfaculteit van de Universiteit Luik en bleef dit tot in 1947. Vervolgens was hij van 1947 tot 1981 gewoon hoogleraar.',\n",
       " 'Hubert Pierlot': \"Hubert, 1ste graaf Pierlot, werd geboren in Cugnon in de provincie Luxemburg als zoon van de industrieel Louis Pierlot en Léonie Haverland. Hij studeerde aan de Katholieke Universiteit Leuven en behaalde de diploma's van doctor in de rechten en van licentiaat in de politieke en sociale wetenschappen. Hij vestigde zich als advocaat.\",\n",
       " 'Jean-Baptiste Nothomb': 'Hij liep school op het atheneum van Luxemburg en studeerde van 1822 tot 1826 rechten aan de Rijksuniversiteit Luik. Daarna werkte hij als advocaat in Brussel en engageerde hij zich in het verzet tegen de regering van koning Willem I, onder meer als journalist bij de Courrier des Pays-Bas. In 1829 werd hij hoofdredacteur van de Brusselse Gazette des Tribunaux.',\n",
       " 'Edmond None': 'Edmond Leburton werd in 1935 licentiaat in de politieke en sociale wetenschappen aan de Universiteit Luik. Hij werd ambtenaar op het ministerie van Arbeid en Sociale Voorzorg.',\n",
       " 'Jean None': 'Gepromoveerd tot doctor in de rechten en licentiaat in de politieke en sociale wetenschappen aan de UCL, werd hij advocaat aan de balie van Charleroi. Hij was er in 1965 stafhouder. Hij werd ook vroeg politiek actief in zijn gemeente. Vanaf 1926 was hij er gemeenteraadslid en in 1927 werd hij er burgemeester. Beide ambten bekleedde hij tot in 1947.\\nHij was ook provincieraadslid van 1933 tot 1936.',\n",
       " 'Joseph Lebeau': 'De vader van Lebeau was een bescheiden juwelier en hij bestemde Joseph voor het priesterschap. Daarom werd hij, toen hij zeven werd, geplaatst bij een oom, die pastoor was in Hannuit. De geestelijke staat trok Lebeau niet aan en na enkele jaren was hij weer in Hoei en werd er bediende bij de registratie. Tegelijk begon hij studies in de rechten aan de universiteit van Luik en slaagde er met enige moeite in om het doctoraat te verwerven (1819). Hij begon toen als advocaat-stagiair bij de Franse réfugié Teste in Hoei en vestigde zich weldra in Luik, waar hij al snel bekendheid verwierf door zijn pleidooien in strafzaken. Begin 1824 verloor hij stilaan de lust voor de advocatuur en stichtte, samen met Paul Devaux, Firmin Rogier, Charles Rogier en anderen, een tijdschrift onder de naam Mathieu Laensbergh waarin hij zijn ideeën over politieke aangelegenheden kon publiceren.',\n",
       " 'Charles Rogier': 'Nadat zijn vader tijdens de Russische veldtochten was gesneuveld, kwam hij met zijn moeder in Luik wonen en promoveerde er in 1826 tot doctor in de rechten aan de Universiteit van Luik. Voordien was hij van 1817 tot 1821 privéleraar en van 1821 tot 1823 huisonderwijzer bij baron de Senzeilles. In 1826 werd hij advocaat bij de Balie van Luik. Daar ontpopte hij zich tot een liberale opposant van koning Willem I der Nederlanden. Hij behoorde tot de jonge groep intellectuelen die tussen 1824 en 1830 verschillende kranten oprichtte: eerst de Mathieu Laensbergh, vervolgens Le Politique.',\n",
       " 'Barthélemy None': 'De Theux de Meylandt was de jongste van vijf kinderen van ridder Joseph-Mathieu de Theux (1754-1825) en Marie-Antoinette de Wezeren (1767-1842).\\nHijzelf was 46 toen hij in 1840 trouwde met de achttienjarige Aline du Parc (1822-1881). Ze kregen vier dochters en een zoon Albert, die trouwde maar geen nakomelingen had.',\n",
       " 'Felix None': 'Felix de Mûelenaere was de zoon van Grégoire de Mûelenaere (1749-1800) en Marie-Françoise Van Outryve (1766-1835). Hij trouwde in 1827 met Reine-Jeanne de Knuyt (1808-1861).',\n",
       " 'Alexander De Croo': 'Alexander De Croo is de zoon van voormalig minister, partijvoorzitter en Kamervoorzitter Herman De Croo. Hij studeerde in 1998 af als handelsingenieur aan de Vrije Universiteit Brussel (in samenwerking met Solvay Business School). Nadien studeerde hij een Master of Business Administration (MBA) aan Northwestern-universiteit in Illinois, Verenigde Staten. Hij werkte tussen 2000 en 2006 voor het consultingkantoor The Boston Consulting Group. Daarna richtte hij Darts-ip op, een bedrijf dat advies geeft op vlak van eigendomsrecht.',\n",
       " 'Henri de Brouckère': 'Charles de Brouckère senior, die onder het ancien régime tot de notabelen van het Brugse maar niet tot de adel behoorde, verkreeg in 1816 voor hem en zijn nazaten adelserkenning en opname in de ridderschap van de Nederlandse provincie West-Vlaanderen.',\n",
       " 'Albert None': 'Goblet, lid van de familie Goblet, was de zoon van een vooraanstaand Doorniks magistraat. Hij studeerde aan de Franse militaire school van Saint-Cyr en werd officier van de genie in het leger van Napoleon. In 1815 vervoegde hij het leger van het nieuwe Verenigd Koninkrijk der Nederlanden. Hij werd op 12 mei 1823 ridder 3de klasse in de Militaire Willems-Orde voor het aanleggen van de versterkingen aan de Franse grens.',\n",
       " 'Sylvain Weyer': 'Van de Weyer verhuisde in 1811 met zijn ouders naar Amsterdam. Hij voelde zich toen vooral aangetrokken door de zeevaart. Toen zijn vader, Josse-Alexandre van de Weyer, benoemd werd tot politiecommissaris van Leuven, keerden ze terug naar zijn geboortestad. In 1819 begon hij aan een studie rechten aan de Rijksuniversiteit Leuven, waarna hij in 1823 advocaat werd in Brussel. Daar hield hij zich onder andere bezig met het verdedigen van kranten en personen die kritiek hadden op de regering in Den Haag en Brussel.\\nNaast Frans en Nederlands dat hij reeds beheerste leerde hij Engels van een kennis, en dat maakte hem later tot de enige die met Londen kon onderhandelen.',\n",
       " 'Jules Burlet': 'Jules de Burlet behoorde tot een familie die adelbrieven had ontvangen in 1763. Zijn grootvader Gérard de Burlet (1772-1857) verkreeg in 1852 adelserkenning. Zijn jongste zoon, Joseph de Burlet (1811-1879), vader van Jules, was beheerder van het discontokantoor van de Nationale Bank in Nijvel en was getrouwd met Louise Dugniolle (1818-1895), dochter van Alexandre Dugniolle de Mévius, volksvertegenwoordiger en ambtenaar.',\n",
       " 'Paul-Émile None': 'Hij trouwde in 1893 in Sint-Gillis met Léa Féron (1871-1911), dochter van Émile Féron, advocaat, gemeenteraadslid van Sint-Gillis en volksvertegenwoordiger. Hij was een schoonbroer van Maurice Féron, advocaat, volksvertegenwoordiger en senator.',\n",
       " 'Jules Malou': 'Jules Malou was een zoon van senator Jean-Baptiste Malou en Marie-Thérèse Vandenpeereboom. Hij was een neef van senator Edouard Malou en een broer van Joannes-Baptista Malou, bisschop van Brugge. Hij trouwde in 1837 in Gent met Mathilde Delebecque (1812-1899). Ze kregen twee zoons en twee dochters. Enkel zijn dochters zorgden voor nageslacht:',\n",
       " 'Charles Broqueville': 'Charles de Broqueville stamde uit een oud adellijk geslacht uit de Franse Gascogne. Hij was een zoon van graaf Stanislas de Broqueville (1830-1919) en Claire de Briey (1832-1876). Zijn grootvaders waren baron Stanislas de Broqueville, provincieraadslid van Oost-Vlaanderen en Antwerpen, en graaf Camille de Briey, industrieel, senator, minister en diplomaat.',\n",
       " 'Joseph Pholien': 'Joseph Pholien was doctor in de rechten. Hij was advocaat en gemeenteraadslid van Elsene (1926-1929) en werd gecoöpteerd senator voor de PSC van 1936 tot 1961.',\n",
       " 'Jean Van Houtte': 'In 1931 werd hij eveneens benoemd tot docent aan de Universiteit van Luik, waar hij vanaf 1936 buitengewoon hoogleraar was. Van 1937 tot 1972 was hij ook gewoon hoogleraar en van 1956 tot 1958 decaan bij de Universiteit van Gent en vanaf 1937 was hij buitengewoon hoogleraar bij de Hogere School van Handels- en Economische Wetenschappen van Gent.',\n",
       " 'Walthère Frère': 'Walthère Frère groeide op in een kleinburgerlijk milieu. Na zijn middelbare studies in Luik studeerde hij aan de Sorbonne in Parijs. In 1832 promoveerde hij tot doctor in de rechten aan de Rijksuniversiteit Leuven, waarna hij zich in Luik vestigde als advocaat. Hij huwde in 1835 met een dochter van de grote Luikse industrieel Henri Orban-Rossius, en voegde de naam Orban toe aan zijn familienaam.',\n",
       " 'Gérard Cooreman': 'Van 1892 tot 1898 zetelde hij voor het arrondissement Gent in de Belgische Senaat en daarna was hij van 1898 tot 1914 voor het arrondissement Gent-Eeklo lid van de Kamer van volksvertegenwoordigers. In het parlement vertegenwoordigde hij de Katholieke Partij. Van 1895 tot 1911 was hij tevens gemeenteraadslid van Gent. In die periode leerde hij ook Charles Van der Cruyssen kennen en steunde hem in zijn verdediging van de belangen van de middenstanders.',\n",
       " 'Jules Vandenpeereboom': 'Hij promoveerde tot doctor in de rechten aan de Katholieke Universiteit Leuven en vestigde zich als advocaat in Kortrijk. Van 1872 tot 1884 was hij gemeenteraadslid van Kortrijk.',\n",
       " 'Jules Trooz': 'Hij was de zoon van luitenant-kolonel bij de cavalerie Mathieu de Trooz (1812-1869) en Caroline du Chastel de la Howarderie. De Trooz volgde filosofiestudies aan de Katholieke Universiteit Leuven en werd vervolgens van 1875 tot 1890 erevoorzitter van de Arbeidersvereniging. Hij huwde in 1876 met Helene van Elewyck.',\n",
       " \"Jules d'Anethan\": \"De voornamelijk in Luxemburg gevestigde familie d'Anethan verkreeg een eerste adelerkenning in 1630. In 1787 verkreeg ze een erfelijke barontitel. In 1816 werd de adellijke status en de titel onder Willem I bevestigd in hoofde van advocaat François d'Anethan (1743-1824), die lid was van de Eerste Kamer in het Verenigd Koninkrijk der Nederlanden. Zijn zoon, Joseph d'Anethan (1769-1841), die vooral in de Oostenrijkse tijd een ambtenarenloopbaan doorliep, trouwde met Apolline Verseyden de Varick (1771-1855), dochter van het echtpaar Verseyden-de Crumpipen. Jules d'Anethan was een van hun vier zoons. Hij trouwde met Marie-Cornélie de Jonghe (1803-1864). Ze kregen drie kinderen, met nakomelingen tot op vandaag, onder wie verschillende die in de diplomatie hun weg vonden. Hun kinderen waren:\",\n",
       " 'Charles Michel': 'Michel werd geboren als zoon van Louis Michel, voormalig Europees commissaris en minister van Buitenlandse Zaken, en hij raakte al snel politiek geëngageerd. Op zijn 16de werd hij lid van de Jeunes MR en van 1992 tot 1999 was hij zelfs voorzitter van deze beweging.',\n",
       " 'Sophie Wilmès': 'Wilmès is een dochter van Philippe Wilmès, professor economie aan de UCL en aan het MIT, regent bij de Nationale Bank van België en PSC-vertegenwoordiger in diverse bestuursraden. Ook haar moeder was politiek actief en werkte onder meer op het kabinet van Mieke Offeciers-Van De Wiele.',\n",
       " 'Mohammed None': 'أبو عبد الله محمد بن محمد ابن علي بن مخلوف بن زيدان الملقب بالقائم بأمر الله عميد الأسرة السعدية وأول سلطان للمغرب من الأسرة السعدية، حكم بين 1509 - 1517.',\n",
       " 'Hassan None': 'ولد في الرباط وهو أكبر الأبناء الذكور للملك محمد الخامس من زوجته الثانية عبلة بنت الطاهر، تلقَّى تعليمه المبكر في المدرسة المولوية، ثم التحق بعد ذلك بالكلية الملكية بالرباط، حصل في عام 1947 على شهادة البكالوريا بامتياز، وحصل في عام 1952 على درجة الماجستير في القانون العام من جامعة بوردو، خدم في وقت لاحق في البحرية الفرنسية.',\n",
       " 'Vladimir Putin': 'Выпускник юридического факультета Ленинградского государственного университета (ЛГУ). В течение 16 лет служил офицером внешней разведки КГБ, в том числе 6 лет в Дрездене➤. По возвращении в Ленинград работал помощником ректора ЛГУ, затем советником председателя Ленинградского горсовета Анатолия Собчака➤. После увольнения из КГБ в 1991\\xa0году работал в мэрии Санкт-Петербурга. После поражения Собчака на губернаторских выборах 1996\\xa0года переехал в Москву, где был назначен заместителем управляющего делами президента РФ➤. Кандидат экономических наук (1997). После пребывания во главе Федеральной службы безопасности РФ и на посту секретаря Совета Безопасности в августе 1999\\xa0года возглавил правительство➤.',\n",
       " 'Dmitry Medvedev': 'Дми́трий Анато́льевич Медве́дев (род. 14 сентября 1965, Ленинград, СССР)\\xa0— российский государственный и политический деятель. Первый заместитель председателя Военно-промышленной комиссии Российской Федерации с 26 декабря 2022\\xa0года. Заместитель председателя Совета Безопасности Российской Федерации с 16 января 2020\\xa0года. Председатель партии «Единая Россия» с 26 мая 2012\\xa0года.',\n",
       " 'Boris Yeltsin': 'Депутат Совета Союза Верховного Совета СССР 10 и 11 созывов (1979—1989); член Президиума Верховного Совета СССР (1984—1988). Народный депутат СССР и член Совета Национальностей Верховного Совета СССР (1989—1990). Народный депутат РСФСР и председатель Верховного Совета РСФСР (1990—1991). Член КПСС (1961—1990), член ЦК КПСС (1981—1990), первый секретарь Свердловского обкома КПСС (1976—1985), секретарь ЦК КПСС (1985—1986), первый секретарь Московского горкома КПСС (1985—1987), кандидат в члены Политбюро ЦК КПСС (1986—1988). Кавалер ордена Ленина (1981).',\n",
       " 'François Hollande': \"François Hollande Écouter, né le 12 août 1954 à Rouen (Seine-Inférieure), est un haut fonctionnaire et homme d'État français. Il est président de la République française du 15 mai 2012 au 14 mai 2017.\",\n",
       " 'Nicolas Sarkozy': \"Nicolas Sarközy de Nagy-Bocsa, dit Nicolas Sarkozy (Écouter), né le 28 janvier 1955 à Paris (France), est un homme d'État français. Il est président de la République française du 16 mai 2007 au 15 mai 2012.\",\n",
       " 'François Mitterrand': \"François Mitterrand Écouter, né le 26 octobre 1916 à Jarnac (Charente) et mort le 8 janvier 1996 dans le 7e arrondissement de Paris, est un homme d'État français, président de la République du 21 mai 1981 au 17 mai 1995.\",\n",
       " 'Charles de Gaulle': \"Charles de Gaulle , communément appelé le général de Gaulle ou parfois simplement le Général, né le 22 novembre 1890 à Lille (Nord) et mort le 9 novembre 1970 à Colombey-les-Deux-Églises (Haute-Marne), est un militaire, résistant, homme d'État et écrivain français.\",\n",
       " 'Jacques Chirac': \"Jacques Chirac , né le 29 novembre 1932 dans le 5e\\xa0arrondissement de Paris et mort le 26 septembre 2019 dans le 6e arrondissement de la même ville, est un haut fonctionnaire et homme d'État français. Il est Premier ministre de 1974 à 1976, puis de 1986 à 1988, et président de la République de 1995 à 2007.\",\n",
       " \"Valéry Giscard d'Estaing\": \"Valéry Giscard d'Estaing Écouter —\\xa0communément appelé «\\xa0Giscard\\xa0» ou désigné par ses initiales, «\\xa0VGE\\xa0»\\xa0—, né le 2 février 1926 à Coblence (Allemagne) et mort le 2 décembre 2020 à Authon (France), est un homme d'État français, président de la République de 1974 à 1981.\",\n",
       " 'Georges Pompidou': \"Georges Pompidou (Écouter), né le 5 juillet 1911 à Montboudif (Cantal) et mort le 2 avril 1974 à Paris, est un haut fonctionnaire et homme d'État français. Il est Premier ministre du 14 avril 1962 au 10 juillet 1968 et président de la République du 20 juin 1969 à sa mort.\",\n",
       " 'Adolphe Thiers': \"Adolphe Thiers, né le 15 avril 1797 (26 germinal an V) à Marseille et mort le 3 septembre 1877 à Saint-Germain-en-Laye, est un avocat, journaliste, historien et homme d'État français.\",\n",
       " 'Napoléon Bonaparte': 'Vous lisez un «\\xa0article de qualité\\xa0» labellisé en 2011.',\n",
       " 'Paul Doumer': \"Joseph Athanase Doumer, dit Paul Doumer, né le 22 mars 1857 à Aurillac (Cantal) et mort assassiné le 7 mai 1932 à Paris (Seine), est un homme d'État français. Il est président de la République du 13 juin 1931 à sa mort.\",\n",
       " 'Alain Poher': \"Alain Poher, né le 17 avril 1909 à Ablon-sur-Seine (Seine-et-Oise) et mort le 9 décembre 1996 à Paris\\xa016e, est un homme d'État français.\",\n",
       " 'Albert Lebrun': \"Albert Lebrun, né le 29 août 1871 à Mercy-le-Haut (alors en Lorraine restée française après le traité de Francfort) et mort le 6 mars 1950 à Paris (alors dans le département de la Seine), est un homme d'État français. Il est président de la République française du 10 mai 1932 au 11 juillet 1940 (le dernier de la IIIe\\xa0République).\",\n",
       " 'René Coty': \"René Coty, né le 20 mars 1882 au Havre et mort le 22 novembre 1962 dans la même ville, est un homme d'État français. Il est président de la République du 16 janvier 1954 au 8 janvier 1959.\",\n",
       " 'Vincent Auriol': \"Vincent Auriol, né le 27 août 1884 à Revel (Haute-Garonne) et mort le 1er janvier 1966 à Paris, est un homme d'État français. Il est président de la République du 16 janvier 1947 au 16 janvier 1954.\",\n",
       " 'Patrice de Mac Mahon': 'Patrice de Mac Mahon, comte de Mac Mahon, 1er duc de Magenta, maréchal de France, né le 13 juin 1808 au château de Sully (Saône-et-Loire) et mort le 17 octobre 1893 à Montcresson (Loiret), est un officier militaire, administrateur colonial et homme d’État français, président de la République du 24 mai 1873 au 30 janvier 1879.',\n",
       " 'Émile Loubet': \"Émile Loubet, né le 30 décembre 1838 à Marsanne (Drôme) et mort le 20 décembre 1929 à Montélimar (Drôme), est un homme d'État français. Il est président de la République française du 18 février 1899 au 18 février 1906.\",\n",
       " 'Raymond Poincaré': \"Raymond Poincaré, né le 20 août 1860 à Bar-le-Duc (Meuse) et mort le 15 octobre 1934 à Paris, est un avocat et homme d'État français. Il est le président de la République française du 18 février 1913 au 18 février 1920.\",\n",
       " 'Marie Carnot': \"Sadi Carnot, né le 11 août 1837 à Limoges (Haute-Vienne) et mort assassiné le 25 juin 1894 à Lyon (Rhône), est un homme d'État français, président de la République du 3 décembre 1887 à sa mort.\",\n",
       " 'Alexandre Millerand': \"Alexandre Millerand, né le 10 février 1859 à Paris et mort le 6 avril 1943 à Versailles, est un homme d'État français. Il est président du Conseil du 20 janvier au 23 septembre 1920, puis président de la République du 23 septembre 1920 au 11 juin 1924.\",\n",
       " 'Gaston Doumergue': \"Gaston Doumergue, né le 1er août 1863 à Aigues-Vives (Gard) et mort le 18 juin 1937 dans la même ville, est un homme d'État français. Il est président de la République française du 13 juin 1924 au 13 juin 1931.\",\n",
       " 'Félix Faure': \"Félix Faure, né le 30 janvier 1841 à Paris (Seine) et mort le 16 février 1899 dans la même ville, est un homme d'État français. Il est président de la République du 17 janvier 1895 à sa mort.\",\n",
       " 'Jules Grévy': \"François Judith Paul Grévy, né le 15 août 1807 à Mont-sous-Vaudrey et mort le 9 septembre 1891 dans la même commune, est un homme d'État français, président de la République du 30 janvier 1879 au 2 décembre 1887.\",\n",
       " 'Clément Fallières': \"Armand Fallières, né le 6 novembre 1841 à Mézin (Lot-et-Garonne) et mort le 22 juin 1931 à Villeneuve-de-Mézin (Lot-et-Garonne), est un homme d'État français, président de la République française de 1906 à 1913.\",\n",
       " 'Paul Deschanel': \"Paul Deschanel, né le 13 février 1855 à Schaerbeek (Belgique) et mort le 28 avril 1922 à Paris (France), est un homme d'État, journaliste et écrivain français, président de la République du 18 février au 21 septembre 1920.\",\n",
       " 'Georges Bidault': \"Georges Bidault, né le 5 octobre 1899 à Moulins (Allier) et mort le 27 janvier 1983 à Cambo-les-Bains (Pyrénées-Atlantiques), est un résistant et un homme d'État français.\",\n",
       " 'Jean Casimir-Perier': \"Jean Casimir-Perier, né le 8 novembre 1847 à Paris et mort le 11 mars 1907 dans la même ville, est un homme d'État français. Il est président de la République française du 27 juin 1894 au 16 janvier 1895.\",\n",
       " 'Charles Dupuy': \"Charles Dupuy, né le 5 novembre 1851 au Puy-en-Velay et mort le 23 juillet 1923 à Ille-sur-Têt, est un homme d'État français. Il occupe à plusieurs reprises la fonction de président du Conseil sous la IIIe République, entre 1893 et 1899. Il est également président de la Chambre des députés de 1893 à 1894.\",\n",
       " 'Louis Cavaignac': \"Louis Eugène Cavaignac, connu aussi sous le nom de général Cavaignac, né le 15 octobre 1802 (23 vendémiaire an XI) à Paris et mort le 28 octobre 1857 dans son château d'Ourne à Flée, est un général et homme d'État français.\",\n",
       " 'Louis None': \"Louis-Jules Trochu, né au Palais à Belle-Île-en-Mer (Morbihan) le 12 mars 1815 et mort à Tours (Indre-et-Loire) le 7 octobre 1896, est un général de division et homme d'État français sous le Second Empire.\",\n",
       " 'Frédéric None': \"Frédéric François-Marsal, né le 16 mars 1874 à Paris 8e (Seine) et mort le 20 mai 1958 à Gisors (Eure), est un homme d'affaires et un homme politique français de la droite républicaine, dont la carrière politique a culminé avec son bref passage à la présidence du Conseil en 1924.\",\n",
       " 'Emmanuel Macron': \"Emmanuel Macron (Écouter), né le 21 décembre 1977 à Amiens (Somme), est un haut fonctionnaire, banquier d'affaires et homme d'État français. Il est Président de la République française depuis le 14 mai 2017.\"}"
      ]
     },
     "execution_count": 58,
     "metadata": {},
     "output_type": "execute_result"
    }
   ],
   "source": [
    "import requests\n",
    "from bs4 import BeautifulSoup\n",
    "import re\n",
    "import json\n",
    "\n",
    "\n",
    "def clean_text(text):\n",
    "    text = re.sub(r'\\[.*?\\]', '', text)\n",
    "    text = re.sub(r'/[^;]*;', '', text)\n",
    "    text = re.sub(r'[ⓘ]', '', text)\n",
    "    text = re.sub(r'\\s{2,}', ' ', text)\n",
    "    text = re.sub(r'\\(/\\s*[^)]*\\)', '', text)\n",
    "    text = re.sub(r'\\(\\s+', '(', text)\n",
    "\n",
    "    text = text.strip()\n",
    "    \n",
    "    return text\n",
    "\n",
    "def save(dict_as_json, file_name):\n",
    "    with open(file_name, 'w') as f:\n",
    "        json.dump(dict_as_json, f)\n",
    "\n",
    "def load(file_name):\n",
    "    with open(file_name, 'r') as f:\n",
    "        return json.load(f)\n",
    "\n",
    "\n",
    "def get_first_paragraph(wikipedia_url, session):\n",
    "    \n",
    "    content = session.get(wikipedia_url)\n",
    "    soup = BeautifulSoup(content.text, 'html.parser')\n",
    "    paragraphs = soup.find_all('p')\n",
    "\n",
    "    for paragraph in paragraphs[1:]:\n",
    "        paragraph_text = paragraph.get_text()\n",
    "        if re.search(r'\\d', paragraph_text):\n",
    "            return clean_text(paragraph_text)\n",
    "\n",
    "\n",
    "def get_leaders():\n",
    "    url = \"https://country-leaders.onrender.com\"\n",
    "    cookies_url = url + \"/cookie\"\n",
    "    countries_url = url + \"/countries\"\n",
    "    leaders_url = url + \"/leaders\"\n",
    "    \n",
    "    cookies_req = requests.get(cookies_url)\n",
    "    cookies = cookies_req.cookies.get_dict()\n",
    "    \n",
    "    countries_req = requests.get(countries_url, cookies=cookies)\n",
    "    countries = countries_req.json()\n",
    "\n",
    "    leaders_per_country = {}\n",
    "    \n",
    "    with requests.Session() as session:\n",
    "        for country in countries:\n",
    "            leaders_req = session.get(leaders_url, params={'country': country}, cookies=cookies)\n",
    "            leaders = leaders_req.json()\n",
    "            leaders_per_country[country] = leaders\n",
    "\n",
    "        leaders_dict = {}\n",
    "        for country_code, leaders in leaders_per_country.items():\n",
    "            for leader in leaders:\n",
    "                leader_name = f\"{leader['first_name']} {leader['last_name']}\"\n",
    "                first_paragraph = get_first_paragraph(leader['wikipedia_url'], session)\n",
    "                leaders_dict[leader_name] = first_paragraph\n",
    "\n",
    "    return leaders_dict\n",
    "\n",
    "get_leaders()"
   ]
  },
  {
   "attachments": {},
   "cell_type": "markdown",
   "metadata": {
    "id": "LtLTvw3wPqe0"
   },
   "source": [
    "## Saving your hard work\n",
    "\n",
    "The final step is to save the ``leaders_per_country`` dictionary in the `leaders.json` file using the [json](https://docs.python.org/3/library/json.html) module. Check out the `with` statement."
   ]
  },
  {
   "cell_type": "code",
   "execution_count": null,
   "metadata": {
    "id": "pTNGKKrOjNDk"
   },
   "outputs": [],
   "source": [
    "# 3 lines\n",
    "import json\n",
    "\n",
    "with open('leaders.json', 'w') as f:\n",
    "        json.dump(leaders_dict, f)\n"
   ]
  },
  {
   "attachments": {},
   "cell_type": "markdown",
   "metadata": {
    "id": "v7uf_kfGCWmM"
   },
   "source": [
    "Make sure the file can be read back. Write the code to read the file. And check the variables are the same."
   ]
  },
  {
   "cell_type": "code",
   "execution_count": null,
   "metadata": {
    "id": "4VwNjBYyjPzs"
   },
   "outputs": [],
   "source": [
    "# 3 lines\n",
    "with open('leaders.json', 'r') as f:\n",
    "    print(json.load(f))\n"
   ]
  },
  {
   "cell_type": "markdown",
   "metadata": {
    "id": "1fW_U7gXktyv"
   },
   "source": [
    "Make a function `save(leaders_per_country)` to call this code easily."
   ]
  },
  {
   "cell_type": "code",
   "execution_count": null,
   "metadata": {
    "id": "EfknpnTljqUd"
   },
   "outputs": [],
   "source": [
    "# 3 lines\n",
    "# 3 lines\n",
    "\n",
    "def save(dict_as_json, file_name):\n",
    "    with open(file_name, 'w') as f:\n",
    "        json.dump(dict_as_json, f)\n",
    "\n",
    "def load(file_name):\n",
    "    with open(file_name, 'r') as f:\n",
    "        return json.load(f)\n",
    "    \n",
    "save(leaders_dict, \"Leaders.json\")\n",
    "load(\"Leaders.json\")\n"
   ]
  },
  {
   "cell_type": "code",
   "execution_count": null,
   "metadata": {
    "id": "lWQ6bbn31cix"
   },
   "outputs": [],
   "source": [
    "# Call the function (1 line)\n"
   ]
  },
  {
   "cell_type": "markdown",
   "metadata": {
    "id": "W5W6nPihlQo9"
   },
   "source": [
    "## Tidy things up in a stand-alone python script\n",
    "\n",
    "Congratulations! You now have a working scraper! However, your code is scattered throughout this notebook along side the tutorials. Hardly production ready...\n",
    "\n",
    "Copy and paste what you need in a separate `leaders_scraper.py` file.\n",
    "Make sure it works by calling `python3 leaders_scraper.py`"
   ]
  },
  {
   "cell_type": "markdown",
   "metadata": {
    "id": "D0cvv193mlxY"
   },
   "source": [
    "## To go further\n",
    "\n",
    "If you want to practice scraping, you can read this section and tackle the exercise.\n",
    "\n",
    "You have noticed the API returns very partial results for country leaders. Many are missing. Overwrite the `get_leaders()` function to get its list from Wikipedia and extract their *personal details* from the frame on the side.\n",
    "\n",
    "Good luck!"
   ]
  }
 ],
 "metadata": {
  "colab": {
   "collapsed_sections": [],
   "provenance": [],
   "toc_visible": true
  },
  "kernelspec": {
   "display_name": "Python 3",
   "language": "python",
   "name": "python3"
  },
  "language_info": {
   "codemirror_mode": {
    "name": "ipython",
    "version": 3
   },
   "file_extension": ".py",
   "mimetype": "text/x-python",
   "name": "python",
   "nbconvert_exporter": "python",
   "pygments_lexer": "ipython3",
   "version": "3.13.0"
  }
 },
 "nbformat": 4,
 "nbformat_minor": 0
}
